{
 "cells": [
  {
   "cell_type": "markdown",
   "id": "21444957",
   "metadata": {},
   "source": [
    "|    #   | Command                           | What it Does                                                                                            |\n",
    "| :----: | --------------------------------- | ------------------------------------------------------------------------------------------------------- |\n",
    "|  **1** | `git init`                        | Initialise a new Git repository in the current folder (creates `.git`). *(Skip if repo already exists)* |\n",
    "|  **2** | `git status`                      | Check which files have been changed, staged, or committed — your “dashboard”.                           |\n",
    "|  **3** | `git add .`                       | Stage all modified / new files so they’ll be included in the next commit.                               |\n",
    "|  **4** | `git commit -m \"message\"`         | Save a snapshot of staged changes locally with a descriptive message.                                   |\n",
    "|  **5** | `git branch`                      | List branches and highlight the one you’re currently on.                                                |\n",
    "|  **6** | `git checkout -b feature-name`    | Create and switch to a new branch for a specific task or feature.                                       |\n",
    "|  **7** | `git push -u origin feature-name` | Push your branch to GitHub for the first time (`-u` sets upstream tracking).                            |\n",
    "|  **8** | `git pull`                        | Fetch and merge the latest changes from the remote branch into your local copy.                         |\n",
    "|  **9** | `git merge feature-name`          | Merge a completed feature branch back into your main branch (after testing / PR review).                |\n",
    "| **10** | `git push origin main`            | Push your merged updates from local main to GitHub — deploy-ready state.                                |\n"
   ]
  },
  {
   "cell_type": "markdown",
   "id": "e171b898",
   "metadata": {},
   "source": [
    "| Step | Command                                                       | Description                                          |\n",
    "| ---- | ------------------------------------------------------------- | ---------------------------------------------------- |\n",
    "| 1️⃣  | `git pull origin main`                                        | Make sure your local main is up-to-date with GitHub. |\n",
    "| 2️⃣  | `git checkout -b feat/<short-feature-name>`                   | Create and switch to a new branch from main.         |\n",
    "| 3️⃣  | *Do your work* (edit files, test, etc.)                       | Build, commit, push.                                 |\n",
    "| 4️⃣  | `git add .` → `git commit -m \"feat: add <feature>\"`           | Save your work locally.                              |\n",
    "| 5️⃣  | `git push -u origin feat/<short-feature-name>`                | Push the new branch to GitHub.                       |\n",
    "| 6️⃣  | Open Pull Request (PR) on GitHub                              | Review or self-merge after verifying changes.        |\n",
    "| 7️⃣  | `git checkout main` → `git pull` → `git merge feat/<feature>` | Merge the feature locally (if not via PR).           |\n",
    "| 8️⃣  | `git push origin main`                                        | Push merged changes to GitHub main.                  |\n",
    "| 9️⃣  | `git branch -d feat/<feature>`                                | Delete the old local branch.                         |\n",
    "| 🔟   | `git push origin --delete feat/<feature>`                     | (Optional) delete the remote branch.                 |\n"
   ]
  },
  {
   "cell_type": "markdown",
   "id": "577e36f4",
   "metadata": {},
   "source": [
    "| Stage              | Action                                 | Command Example                                                       |\n",
    "| ------------------ | -------------------------------------- | --------------------------------------------------------------------- |\n",
    "| **Start project**  | Create repo + initial commit on `main` | `git init && git branch -M main && git add . && git commit -m \"init\"` |\n",
    "| **New feature**    | Create a working branch off `main`     | `git checkout -b feat/login`                                          |\n",
    "| **Work normally**  | Commit often & push to branch          | `git add . && git commit -m \"feat: build login page\"`                 |\n",
    "| **Finish feature** | Merge branch into `main`               | `git checkout main && git merge feat/login`                           |\n",
    "| **Clean up**       | Push & delete feature branch           | `git push origin main && git branch -d feat/login`                    |\n"
   ]
  },
  {
   "cell_type": "markdown",
   "id": "75f50166",
   "metadata": {},
   "source": []
  }
 ],
 "metadata": {
  "kernelspec": {
   "display_name": "newenv",
   "language": "python",
   "name": "python3"
  },
  "language_info": {
   "name": "python",
   "version": "3.10.12"
  }
 },
 "nbformat": 4,
 "nbformat_minor": 5
}
